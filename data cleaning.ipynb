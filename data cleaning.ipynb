{
  "nbformat": 4,
  "nbformat_minor": 0,
  "metadata": {
    "colab": {
      "provenance": [],
      "collapsed_sections": []
    },
    "kernelspec": {
      "name": "python3",
      "display_name": "Python 3"
    },
    "language_info": {
      "name": "python"
    }
  },
  "cells": [
    {
      "cell_type": "markdown",
      "source": [
        "#loading Dataset and Package"
      ],
      "metadata": {
        "id": "OtVcA78g6O5-"
      }
    },
    {
      "cell_type": "code",
      "execution_count": 1,
      "metadata": {
        "id": "qkHBcIEV4Uiz"
      },
      "outputs": [],
      "source": [
        "import pandas as pd\n",
        "import numpy as np\n",
        "import matplotlib.pyplot as plt\n",
        "import seaborn as sns"
      ]
    },
    {
      "cell_type": "code",
      "source": [
        "df = pd.read_csv(\"Datafile_2.csv\")"
      ],
      "metadata": {
        "id": "59CRggDi6ESD"
      },
      "execution_count": 16,
      "outputs": []
    },
    {
      "cell_type": "code",
      "source": [
        "df.head()"
      ],
      "metadata": {
        "colab": {
          "base_uri": "https://localhost:8080/",
          "height": 785
        },
        "id": "O5n59Tnn6Pks",
        "outputId": "6c560fa5-88a3-4d88-d930-83355c90dacc"
      },
      "execution_count": 17,
      "outputs": [
        {
          "output_type": "execute_result",
          "data": {
            "text/plain": [
              "   Id                                                Url            Title  \\\n",
              "0   1  https://housing.com/in/buy/resale/page/2760130...  2 BHK Apartment   \n",
              "1   2  https://housing.com/in/buy/resale/page/2757498...  2 BHK Apartment   \n",
              "2   3  https://housing.com/in/buy/resale/page/2753188...  2 BHK Apartment   \n",
              "3   4  https://housing.com/in/buy/resale/page/2747709...  2 BHK Apartment   \n",
              "4   5  https://housing.com/in/buy/resale/page/2750468...  1 BHK Apartment   \n",
              "\n",
              "                              Breadcrumb  \\\n",
              "0  Home | Thane | Thane West | 2760130 |   \n",
              "1  Home | Thane | Thane West | 2757498 |   \n",
              "2  Home | Thane | Thane West | 2753188 |   \n",
              "3   Home | Thane | Shilphata | 2747709 |   \n",
              "4  Home | Thane | Thane West | 2750468 |   \n",
              "\n",
              "                                             Address   City     PossesionDate  \\\n",
              "0                 Swastik Regalia, Thane West, Thane  thane  Ready to move in   \n",
              "1                           Amara, Thane West, Thane  thane        June, 2019   \n",
              "2  Vijay Galaxy Tower 1, Waghbil Naka, Thane West...  thane  Ready to move in   \n",
              "3  Flat No 1705, Shil-phata, 17 Floor, Near Mahap...  thane  Ready to move in   \n",
              "4  Puraniks Kanchan Pushp Society, Thane West, Thane  thane  Ready to move in   \n",
              "\n",
              "   builtuparea   CarpetArea  \\\n",
              "0  910 sq. ft.  700 sq. ft.   \n",
              "1  875 sq. ft.  660 sq. ft.   \n",
              "2  999 sq. ft.  638 sq. ft.   \n",
              "3  945 sq. ft.  651 sq. ft.   \n",
              "4  490 sq. ft.  400 sq. ft.   \n",
              "\n",
              "                                           Amenities  ...  AgeOfProperty  \\\n",
              "0                                                NaN  ...       10 Years   \n",
              "1                                                NaN  ...            NaN   \n",
              "2  ParkingLiftSwimming PoolSports FacilityKids Ar...  ...        3 Years   \n",
              "3                                                NaN  ...        0 Years   \n",
              "4     LiftKids AreaGardenGas PipelineGated Community  ...       15 Years   \n",
              "\n",
              "           Buildingname Bedroom bathroom parking    price  \\\n",
              "0       Swastik Regalia       2      2.0     NaN   95.0 L   \n",
              "1                   NaN       2      2.0     NaN  1.15 Cr   \n",
              "2  Vijay Galaxy Tower 1       2      2.0     1.0   1.1 Cr   \n",
              "3                   NaN       1      2.0     NaN   67.0 L   \n",
              "4                   NaN       1      1.0     NaN   54.0 L   \n",
              "\n",
              "   Built up area Rate       Facing               Floors  \\\n",
              "0  10.44 K per sq. ft.         NaN    Lower of 7 floors   \n",
              "1  13.14 K per sq. ft.         NaN                        \n",
              "2  11.01 K per sq. ft.        West  Middle of 17 floors   \n",
              "3  7089.00 per sq. ft.  North-East  Higher of 21 floors   \n",
              "4  11.02 K per sq. ft.        East   Higher of 7 floors   \n",
              "\n",
              "                                              Images  \n",
              "0                                                NaN  \n",
              "1  https://is1-2.housingcdn.com/01c16c28/54bf6a0d...  \n",
              "2                                                NaN  \n",
              "3                                                NaN  \n",
              "4  https://is1-2.housingcdn.com/01c16c28/037ddf6b...  \n",
              "\n",
              "[5 rows x 23 columns]"
            ],
            "text/html": [
              "\n",
              "  <div id=\"df-46fdec06-fbc0-4431-a006-1cd8b49c82d1\">\n",
              "    <div class=\"colab-df-container\">\n",
              "      <div>\n",
              "<style scoped>\n",
              "    .dataframe tbody tr th:only-of-type {\n",
              "        vertical-align: middle;\n",
              "    }\n",
              "\n",
              "    .dataframe tbody tr th {\n",
              "        vertical-align: top;\n",
              "    }\n",
              "\n",
              "    .dataframe thead th {\n",
              "        text-align: right;\n",
              "    }\n",
              "</style>\n",
              "<table border=\"1\" class=\"dataframe\">\n",
              "  <thead>\n",
              "    <tr style=\"text-align: right;\">\n",
              "      <th></th>\n",
              "      <th>Id</th>\n",
              "      <th>Url</th>\n",
              "      <th>Title</th>\n",
              "      <th>Breadcrumb</th>\n",
              "      <th>Address</th>\n",
              "      <th>City</th>\n",
              "      <th>PossesionDate</th>\n",
              "      <th>builtuparea</th>\n",
              "      <th>CarpetArea</th>\n",
              "      <th>Amenities</th>\n",
              "      <th>...</th>\n",
              "      <th>AgeOfProperty</th>\n",
              "      <th>Buildingname</th>\n",
              "      <th>Bedroom</th>\n",
              "      <th>bathroom</th>\n",
              "      <th>parking</th>\n",
              "      <th>price</th>\n",
              "      <th>Built up area Rate</th>\n",
              "      <th>Facing</th>\n",
              "      <th>Floors</th>\n",
              "      <th>Images</th>\n",
              "    </tr>\n",
              "  </thead>\n",
              "  <tbody>\n",
              "    <tr>\n",
              "      <th>0</th>\n",
              "      <td>1</td>\n",
              "      <td>https://housing.com/in/buy/resale/page/2760130...</td>\n",
              "      <td>2 BHK Apartment</td>\n",
              "      <td>Home | Thane | Thane West | 2760130 |</td>\n",
              "      <td>Swastik Regalia, Thane West, Thane</td>\n",
              "      <td>thane</td>\n",
              "      <td>Ready to move in</td>\n",
              "      <td>910 sq. ft.</td>\n",
              "      <td>700 sq. ft.</td>\n",
              "      <td>NaN</td>\n",
              "      <td>...</td>\n",
              "      <td>10 Years</td>\n",
              "      <td>Swastik Regalia</td>\n",
              "      <td>2</td>\n",
              "      <td>2.0</td>\n",
              "      <td>NaN</td>\n",
              "      <td>95.0 L</td>\n",
              "      <td>10.44 K per sq. ft.</td>\n",
              "      <td>NaN</td>\n",
              "      <td>Lower of 7 floors</td>\n",
              "      <td>NaN</td>\n",
              "    </tr>\n",
              "    <tr>\n",
              "      <th>1</th>\n",
              "      <td>2</td>\n",
              "      <td>https://housing.com/in/buy/resale/page/2757498...</td>\n",
              "      <td>2 BHK Apartment</td>\n",
              "      <td>Home | Thane | Thane West | 2757498 |</td>\n",
              "      <td>Amara, Thane West, Thane</td>\n",
              "      <td>thane</td>\n",
              "      <td>June, 2019</td>\n",
              "      <td>875 sq. ft.</td>\n",
              "      <td>660 sq. ft.</td>\n",
              "      <td>NaN</td>\n",
              "      <td>...</td>\n",
              "      <td>NaN</td>\n",
              "      <td>NaN</td>\n",
              "      <td>2</td>\n",
              "      <td>2.0</td>\n",
              "      <td>NaN</td>\n",
              "      <td>1.15 Cr</td>\n",
              "      <td>13.14 K per sq. ft.</td>\n",
              "      <td>NaN</td>\n",
              "      <td></td>\n",
              "      <td>https://is1-2.housingcdn.com/01c16c28/54bf6a0d...</td>\n",
              "    </tr>\n",
              "    <tr>\n",
              "      <th>2</th>\n",
              "      <td>3</td>\n",
              "      <td>https://housing.com/in/buy/resale/page/2753188...</td>\n",
              "      <td>2 BHK Apartment</td>\n",
              "      <td>Home | Thane | Thane West | 2753188 |</td>\n",
              "      <td>Vijay Galaxy Tower 1, Waghbil Naka, Thane West...</td>\n",
              "      <td>thane</td>\n",
              "      <td>Ready to move in</td>\n",
              "      <td>999 sq. ft.</td>\n",
              "      <td>638 sq. ft.</td>\n",
              "      <td>ParkingLiftSwimming PoolSports FacilityKids Ar...</td>\n",
              "      <td>...</td>\n",
              "      <td>3 Years</td>\n",
              "      <td>Vijay Galaxy Tower 1</td>\n",
              "      <td>2</td>\n",
              "      <td>2.0</td>\n",
              "      <td>1.0</td>\n",
              "      <td>1.1 Cr</td>\n",
              "      <td>11.01 K per sq. ft.</td>\n",
              "      <td>West</td>\n",
              "      <td>Middle of 17 floors</td>\n",
              "      <td>NaN</td>\n",
              "    </tr>\n",
              "    <tr>\n",
              "      <th>3</th>\n",
              "      <td>4</td>\n",
              "      <td>https://housing.com/in/buy/resale/page/2747709...</td>\n",
              "      <td>2 BHK Apartment</td>\n",
              "      <td>Home | Thane | Shilphata | 2747709 |</td>\n",
              "      <td>Flat No 1705, Shil-phata, 17 Floor, Near Mahap...</td>\n",
              "      <td>thane</td>\n",
              "      <td>Ready to move in</td>\n",
              "      <td>945 sq. ft.</td>\n",
              "      <td>651 sq. ft.</td>\n",
              "      <td>NaN</td>\n",
              "      <td>...</td>\n",
              "      <td>0 Years</td>\n",
              "      <td>NaN</td>\n",
              "      <td>1</td>\n",
              "      <td>2.0</td>\n",
              "      <td>NaN</td>\n",
              "      <td>67.0 L</td>\n",
              "      <td>7089.00 per sq. ft.</td>\n",
              "      <td>North-East</td>\n",
              "      <td>Higher of 21 floors</td>\n",
              "      <td>NaN</td>\n",
              "    </tr>\n",
              "    <tr>\n",
              "      <th>4</th>\n",
              "      <td>5</td>\n",
              "      <td>https://housing.com/in/buy/resale/page/2750468...</td>\n",
              "      <td>1 BHK Apartment</td>\n",
              "      <td>Home | Thane | Thane West | 2750468 |</td>\n",
              "      <td>Puraniks Kanchan Pushp Society, Thane West, Thane</td>\n",
              "      <td>thane</td>\n",
              "      <td>Ready to move in</td>\n",
              "      <td>490 sq. ft.</td>\n",
              "      <td>400 sq. ft.</td>\n",
              "      <td>LiftKids AreaGardenGas PipelineGated Community</td>\n",
              "      <td>...</td>\n",
              "      <td>15 Years</td>\n",
              "      <td>NaN</td>\n",
              "      <td>1</td>\n",
              "      <td>1.0</td>\n",
              "      <td>NaN</td>\n",
              "      <td>54.0 L</td>\n",
              "      <td>11.02 K per sq. ft.</td>\n",
              "      <td>East</td>\n",
              "      <td>Higher of 7 floors</td>\n",
              "      <td>https://is1-2.housingcdn.com/01c16c28/037ddf6b...</td>\n",
              "    </tr>\n",
              "  </tbody>\n",
              "</table>\n",
              "<p>5 rows × 23 columns</p>\n",
              "</div>\n",
              "      <button class=\"colab-df-convert\" onclick=\"convertToInteractive('df-46fdec06-fbc0-4431-a006-1cd8b49c82d1')\"\n",
              "              title=\"Convert this dataframe to an interactive table.\"\n",
              "              style=\"display:none;\">\n",
              "        \n",
              "  <svg xmlns=\"http://www.w3.org/2000/svg\" height=\"24px\"viewBox=\"0 0 24 24\"\n",
              "       width=\"24px\">\n",
              "    <path d=\"M0 0h24v24H0V0z\" fill=\"none\"/>\n",
              "    <path d=\"M18.56 5.44l.94 2.06.94-2.06 2.06-.94-2.06-.94-.94-2.06-.94 2.06-2.06.94zm-11 1L8.5 8.5l.94-2.06 2.06-.94-2.06-.94L8.5 2.5l-.94 2.06-2.06.94zm10 10l.94 2.06.94-2.06 2.06-.94-2.06-.94-.94-2.06-.94 2.06-2.06.94z\"/><path d=\"M17.41 7.96l-1.37-1.37c-.4-.4-.92-.59-1.43-.59-.52 0-1.04.2-1.43.59L10.3 9.45l-7.72 7.72c-.78.78-.78 2.05 0 2.83L4 21.41c.39.39.9.59 1.41.59.51 0 1.02-.2 1.41-.59l7.78-7.78 2.81-2.81c.8-.78.8-2.07 0-2.86zM5.41 20L4 18.59l7.72-7.72 1.47 1.35L5.41 20z\"/>\n",
              "  </svg>\n",
              "      </button>\n",
              "      \n",
              "  <style>\n",
              "    .colab-df-container {\n",
              "      display:flex;\n",
              "      flex-wrap:wrap;\n",
              "      gap: 12px;\n",
              "    }\n",
              "\n",
              "    .colab-df-convert {\n",
              "      background-color: #E8F0FE;\n",
              "      border: none;\n",
              "      border-radius: 50%;\n",
              "      cursor: pointer;\n",
              "      display: none;\n",
              "      fill: #1967D2;\n",
              "      height: 32px;\n",
              "      padding: 0 0 0 0;\n",
              "      width: 32px;\n",
              "    }\n",
              "\n",
              "    .colab-df-convert:hover {\n",
              "      background-color: #E2EBFA;\n",
              "      box-shadow: 0px 1px 2px rgba(60, 64, 67, 0.3), 0px 1px 3px 1px rgba(60, 64, 67, 0.15);\n",
              "      fill: #174EA6;\n",
              "    }\n",
              "\n",
              "    [theme=dark] .colab-df-convert {\n",
              "      background-color: #3B4455;\n",
              "      fill: #D2E3FC;\n",
              "    }\n",
              "\n",
              "    [theme=dark] .colab-df-convert:hover {\n",
              "      background-color: #434B5C;\n",
              "      box-shadow: 0px 1px 3px 1px rgba(0, 0, 0, 0.15);\n",
              "      filter: drop-shadow(0px 1px 2px rgba(0, 0, 0, 0.3));\n",
              "      fill: #FFFFFF;\n",
              "    }\n",
              "  </style>\n",
              "\n",
              "      <script>\n",
              "        const buttonEl =\n",
              "          document.querySelector('#df-46fdec06-fbc0-4431-a006-1cd8b49c82d1 button.colab-df-convert');\n",
              "        buttonEl.style.display =\n",
              "          google.colab.kernel.accessAllowed ? 'block' : 'none';\n",
              "\n",
              "        async function convertToInteractive(key) {\n",
              "          const element = document.querySelector('#df-46fdec06-fbc0-4431-a006-1cd8b49c82d1');\n",
              "          const dataTable =\n",
              "            await google.colab.kernel.invokeFunction('convertToInteractive',\n",
              "                                                     [key], {});\n",
              "          if (!dataTable) return;\n",
              "\n",
              "          const docLinkHtml = 'Like what you see? Visit the ' +\n",
              "            '<a target=\"_blank\" href=https://colab.research.google.com/notebooks/data_table.ipynb>data table notebook</a>'\n",
              "            + ' to learn more about interactive tables.';\n",
              "          element.innerHTML = '';\n",
              "          dataTable['output_type'] = 'display_data';\n",
              "          await google.colab.output.renderOutput(dataTable, element);\n",
              "          const docLink = document.createElement('div');\n",
              "          docLink.innerHTML = docLinkHtml;\n",
              "          element.appendChild(docLink);\n",
              "        }\n",
              "      </script>\n",
              "    </div>\n",
              "  </div>\n",
              "  "
            ]
          },
          "metadata": {},
          "execution_count": 17
        }
      ]
    },
    {
      "cell_type": "code",
      "source": [
        "df.shape"
      ],
      "metadata": {
        "colab": {
          "base_uri": "https://localhost:8080/"
        },
        "id": "7n_k5YpO6Sk8",
        "outputId": "590bfdc0-fe76-4caf-de44-eae990fd3082"
      },
      "execution_count": 18,
      "outputs": [
        {
          "output_type": "execute_result",
          "data": {
            "text/plain": [
              "(9446, 23)"
            ]
          },
          "metadata": {},
          "execution_count": 18
        }
      ]
    },
    {
      "cell_type": "code",
      "source": [
        "df.isnull().sum()"
      ],
      "metadata": {
        "colab": {
          "base_uri": "https://localhost:8080/"
        },
        "id": "akAGRFUU8Ib_",
        "outputId": "e3eca5dc-3891-4218-fb0c-58c85a6963a3"
      },
      "execution_count": 19,
      "outputs": [
        {
          "output_type": "execute_result",
          "data": {
            "text/plain": [
              "Id                        0\n",
              "Url                       0\n",
              "Title                     0\n",
              "Breadcrumb                0\n",
              "Address                   0\n",
              "City                      0\n",
              "PossesionDate             9\n",
              "builtuparea               0\n",
              "CarpetArea             1923\n",
              "Amenities              1659\n",
              "Latitude                  0\n",
              "Longitude                 0\n",
              "Building name-1        7527\n",
              "AgeOfProperty          2588\n",
              "Buildingname           7354\n",
              "Bedroom                   0\n",
              "bathroom               1363\n",
              "parking                7117\n",
              "price                     0\n",
              "Built up area Rate        0\n",
              "Facing                 1836\n",
              "Floors                    0\n",
              "Images                 1441\n",
              "dtype: int64"
            ]
          },
          "metadata": {},
          "execution_count": 19
        }
      ]
    },
    {
      "cell_type": "code",
      "source": [
        "plt.figure(figsize=(15,15))\n",
        "sns.heatmap(df.isnull())"
      ],
      "metadata": {
        "colab": {
          "base_uri": "https://localhost:8080/",
          "height": 981
        },
        "id": "awDmtG-W8akF",
        "outputId": "6fc7d85b-365a-4493-a453-8bbfafae4289"
      },
      "execution_count": 20,
      "outputs": [
        {
          "output_type": "execute_result",
          "data": {
            "text/plain": [
              "<matplotlib.axes._subplots.AxesSubplot at 0x7fcc31322810>"
            ]
          },
          "metadata": {},
          "execution_count": 20
        },
        {
          "output_type": "display_data",
          "data": {
            "text/plain": [
              "<Figure size 1080x1080 with 2 Axes>"
            ],
            "image/png": "[encoded data removed]"
          },
          "metadata": {}
        }
      ]
    },
    {
      "cell_type": "code",
      "source": [
        "df2_num = df.select_dtypes(include=['int64','float64'])\n",
        "df2_num.head()"
      ],
      "metadata": {
        "colab": {
          "base_uri": "https://localhost:8080/",
          "height": 206
        },
        "id": "pfYUqQ9x9Djz",
        "outputId": "534b3a84-7ab4-46db-8d4e-c703995adf81"
      },
      "execution_count": 21,
      "outputs": [
        {
          "output_type": "execute_result",
          "data": {
            "text/plain": [
              "   Id   Latitude  Longitude  Bedroom  bathroom  parking\n",
              "0   1  19.262966  72.976679        2       2.0      NaN\n",
              "1   2  19.233931  72.988406        2       2.0      NaN\n",
              "2   3  19.253734  72.973441        2       2.0      1.0\n",
              "3   4  19.143532  73.046473        1       2.0      NaN\n",
              "4   5  19.271616  72.968925        1       1.0      NaN"
            ],
            "text/html": [
              "\n",
              "  <div id=\"df-77af4705-69bf-4bb1-adcd-d400ef262753\">\n",
              "    <div class=\"colab-df-container\">\n",
              "      <div>\n",
              "<style scoped>\n",
              "    .dataframe tbody tr th:only-of-type {\n",
              "        vertical-align: middle;\n",
              "    }\n",
              "\n",
              "    .dataframe tbody tr th {\n",
              "        vertical-align: top;\n",
              "    }\n",
              "\n",
              "    .dataframe thead th {\n",
              "        text-align: right;\n",
              "    }\n",
              "</style>\n",
              "<table border=\"1\" class=\"dataframe\">\n",
              "  <thead>\n",
              "    <tr style=\"text-align: right;\">\n",
              "      <th></th>\n",
              "      <th>Id</th>\n",
              "      <th>Latitude</th>\n",
              "      <th>Longitude</th>\n",
              "      <th>Bedroom</th>\n",
              "      <th>bathroom</th>\n",
              "      <th>parking</th>\n",
              "    </tr>\n",
              "  </thead>\n",
              "  <tbody>\n",
              "    <tr>\n",
              "      <th>0</th>\n",
              "      <td>1</td>\n",
              "      <td>19.262966</td>\n",
              "      <td>72.976679</td>\n",
              "      <td>2</td>\n",
              "      <td>2.0</td>\n",
              "      <td>NaN</td>\n",
              "    </tr>\n",
              "    <tr>\n",
              "      <th>1</th>\n",
              "      <td>2</td>\n",
              "      <td>19.233931</td>\n",
              "      <td>72.988406</td>\n",
              "      <td>2</td>\n",
              "      <td>2.0</td>\n",
              "      <td>NaN</td>\n",
              "    </tr>\n",
              "    <tr>\n",
              "      <th>2</th>\n",
              "      <td>3</td>\n",
              "      <td>19.253734</td>\n",
              "      <td>72.973441</td>\n",
              "      <td>2</td>\n",
              "      <td>2.0</td>\n",
              "      <td>1.0</td>\n",
              "    </tr>\n",
              "    <tr>\n",
              "      <th>3</th>\n",
              "      <td>4</td>\n",
              "      <td>19.143532</td>\n",
              "      <td>73.046473</td>\n",
              "      <td>1</td>\n",
              "      <td>2.0</td>\n",
              "      <td>NaN</td>\n",
              "    </tr>\n",
              "    <tr>\n",
              "      <th>4</th>\n",
              "      <td>5</td>\n",
              "      <td>19.271616</td>\n",
              "      <td>72.968925</td>\n",
              "      <td>1</td>\n",
              "      <td>1.0</td>\n",
              "      <td>NaN</td>\n",
              "    </tr>\n",
              "  </tbody>\n",
              "</table>\n",
              "</div>\n",
              "      <button class=\"colab-df-convert\" onclick=\"convertToInteractive('df-77af4705-69bf-4bb1-adcd-d400ef262753')\"\n",
              "              title=\"Convert this dataframe to an interactive table.\"\n",
              "              style=\"display:none;\">\n",
              "        \n",
              "  <svg xmlns=\"http://www.w3.org/2000/svg\" height=\"24px\"viewBox=\"0 0 24 24\"\n",
              "       width=\"24px\">\n",
              "    <path d=\"M0 0h24v24H0V0z\" fill=\"none\"/>\n",
              "    <path d=\"M18.56 5.44l.94 2.06.94-2.06 2.06-.94-2.06-.94-.94-2.06-.94 2.06-2.06.94zm-11 1L8.5 8.5l.94-2.06 2.06-.94-2.06-.94L8.5 2.5l-.94 2.06-2.06.94zm10 10l.94 2.06.94-2.06 2.06-.94-2.06-.94-.94-2.06-.94 2.06-2.06.94z\"/><path d=\"M17.41 7.96l-1.37-1.37c-.4-.4-.92-.59-1.43-.59-.52 0-1.04.2-1.43.59L10.3 9.45l-7.72 7.72c-.78.78-.78 2.05 0 2.83L4 21.41c.39.39.9.59 1.41.59.51 0 1.02-.2 1.41-.59l7.78-7.78 2.81-2.81c.8-.78.8-2.07 0-2.86zM5.41 20L4 18.59l7.72-7.72 1.47 1.35L5.41 20z\"/>\n",
              "  </svg>\n",
              "      </button>\n",
              "      \n",
              "  <style>\n",
              "    .colab-df-container {\n",
              "      display:flex;\n",
              "      flex-wrap:wrap;\n",
              "      gap: 12px;\n",
              "    }\n",
              "\n",
              "    .colab-df-convert {\n",
              "      background-color: #E8F0FE;\n",
              "      border: none;\n",
              "      border-radius: 50%;\n",
              "      cursor: pointer;\n",
              "      display: none;\n",
              "      fill: #1967D2;\n",
              "      height: 32px;\n",
              "      padding: 0 0 0 0;\n",
              "      width: 32px;\n",
              "    }\n",
              "\n",
              "    .colab-df-convert:hover {\n",
              "      background-color: #E2EBFA;\n",
              "      box-shadow: 0px 1px 2px rgba(60, 64, 67, 0.3), 0px 1px 3px 1px rgba(60, 64, 67, 0.15);\n",
              "      fill: #174EA6;\n",
              "    }\n",
              "\n",
              "    [theme=dark] .colab-df-convert {\n",
              "      background-color: #3B4455;\n",
              "      fill: #D2E3FC;\n",
              "    }\n",
              "\n",
              "    [theme=dark] .colab-df-convert:hover {\n",
              "      background-color: #434B5C;\n",
              "      box-shadow: 0px 1px 3px 1px rgba(0, 0, 0, 0.15);\n",
              "      filter: drop-shadow(0px 1px 2px rgba(0, 0, 0, 0.3));\n",
              "      fill: #FFFFFF;\n",
              "    }\n",
              "  </style>\n",
              "\n",
              "      <script>\n",
              "        const buttonEl =\n",
              "          document.querySelector('#df-77af4705-69bf-4bb1-adcd-d400ef262753 button.colab-df-convert');\n",
              "        buttonEl.style.display =\n",
              "          google.colab.kernel.accessAllowed ? 'block' : 'none';\n",
              "\n",
              "        async function convertToInteractive(key) {\n",
              "          const element = document.querySelector('#df-77af4705-69bf-4bb1-adcd-d400ef262753');\n",
              "          const dataTable =\n",
              "            await google.colab.kernel.invokeFunction('convertToInteractive',\n",
              "                                                     [key], {});\n",
              "          if (!dataTable) return;\n",
              "\n",
              "          const docLinkHtml = 'Like what you see? Visit the ' +\n",
              "            '<a target=\"_blank\" href=https://colab.research.google.com/notebooks/data_table.ipynb>data table notebook</a>'\n",
              "            + ' to learn more about interactive tables.';\n",
              "          element.innerHTML = '';\n",
              "          dataTable['output_type'] = 'display_data';\n",
              "          await google.colab.output.renderOutput(dataTable, element);\n",
              "          const docLink = document.createElement('div');\n",
              "          docLink.innerHTML = docLinkHtml;\n",
              "          element.appendChild(docLink);\n",
              "        }\n",
              "      </script>\n",
              "    </div>\n",
              "  </div>\n",
              "  "
            ]
          },
          "metadata": {},
          "execution_count": 21
        }
      ]
    },
    {
      "cell_type": "code",
      "source": [
        "df2_num.isnull().sum()"
      ],
      "metadata": {
        "colab": {
          "base_uri": "https://localhost:8080/"
        },
        "id": "odLH4MAS-rNT",
        "outputId": "55c255bd-a9ff-49b3-83ef-4e325adad3f1"
      },
      "execution_count": 22,
      "outputs": [
        {
          "output_type": "execute_result",
          "data": {
            "text/plain": [
              "Id              0\n",
              "Latitude        0\n",
              "Longitude       0\n",
              "Bedroom         0\n",
              "bathroom     1363\n",
              "parking      7117\n",
              "dtype: int64"
            ]
          },
          "metadata": {},
          "execution_count": 22
        }
      ]
    },
    {
      "cell_type": "markdown",
      "source": [
        "#finding missing variables in numerical data"
      ],
      "metadata": {
        "id": "sss4NbqT5oku"
      }
    },
    {
      "cell_type": "code",
      "source": [
        "missing_num_var = [var for var in df2_num.columns if df2_num[var].isnull().sum()>0]\n",
        "related_var = ['Bedroom','City']    \n",
        "missing_num_var"
      ],
      "metadata": {
        "colab": {
          "base_uri": "https://localhost:8080/"
        },
        "id": "gNxn8YIS_En4",
        "outputId": "5a63a541-f6e1-4ab5-cc6d-2d2e2870acad"
      },
      "execution_count": 23,
      "outputs": [
        {
          "output_type": "execute_result",
          "data": {
            "text/plain": [
              "['bathroom', 'parking']"
            ]
          },
          "metadata": {},
          "execution_count": 23
        }
      ]
    },
    {
      "cell_type": "code",
      "source": [
        "df_copy = df.copy()\n",
        "num_vars_miss = ['bathroom', 'parking']\n",
        "cat_vars = ['Bedroom','City']\n",
        "for cat_var, num_var_miss in zip(cat_vars,num_vars_miss):\n",
        "  for var_class in df[cat_var].unique():\n",
        "    df_copy.update(df[df.loc[:,cat_var]==var_class][num_var_miss].replace(np.nan,df[df.loc[:,cat_var]== var_class][num_var_miss].mean()))"
      ],
      "metadata": {
        "id": "duHjYxFYI57e"
      },
      "execution_count": 24,
      "outputs": []
    },
    {
      "cell_type": "code",
      "source": [
        "df_copy[missing_num_var].isnull().sum()"
      ],
      "metadata": {
        "colab": {
          "base_uri": "https://localhost:8080/"
        },
        "id": "l9wZsjJa__pc",
        "outputId": "34298530-0887-48b8-91e2-58c557802e21"
      },
      "execution_count": 25,
      "outputs": [
        {
          "output_type": "execute_result",
          "data": {
            "text/plain": [
              "bathroom    1\n",
              "parking     0\n",
              "dtype: int64"
            ]
          },
          "metadata": {},
          "execution_count": 25
        }
      ]
    },
    {
      "cell_type": "code",
      "source": [
        "df_copy[missing_num_var]"
      ],
      "metadata": {
        "colab": {
          "base_uri": "https://localhost:8080/",
          "height": 424
        },
        "id": "7TefdUQfwldr",
        "outputId": "3736eb09-620f-459a-ad8a-6fedb86161b9"
      },
      "execution_count": 26,
      "outputs": [
        {
          "output_type": "execute_result",
          "data": {
            "text/plain": [
              "      bathroom   parking\n",
              "0          2.0  1.136969\n",
              "1          2.0  1.136969\n",
              "2          2.0  1.000000\n",
              "3          2.0  1.136969\n",
              "4          1.0  1.136969\n",
              "...        ...       ...\n",
              "9441       3.0  2.000000\n",
              "9442       2.0  1.136969\n",
              "9443       2.0  1.136969\n",
              "9444       1.0  1.136969\n",
              "9445       2.0  1.000000\n",
              "\n",
              "[9446 rows x 2 columns]"
            ],
            "text/html": [
              "\n",
              "  <div id=\"df-d948fce4-1dce-425d-bfce-ef276e0e9ba3\">\n",
              "    <div class=\"colab-df-container\">\n",
              "      <div>\n",
              "<style scoped>\n",
              "    .dataframe tbody tr th:only-of-type {\n",
              "        vertical-align: middle;\n",
              "    }\n",
              "\n",
              "    .dataframe tbody tr th {\n",
              "        vertical-align: top;\n",
              "    }\n",
              "\n",
              "    .dataframe thead th {\n",
              "        text-align: right;\n",
              "    }\n",
              "</style>\n",
              "<table border=\"1\" class=\"dataframe\">\n",
              "  <thead>\n",
              "    <tr style=\"text-align: right;\">\n",
              "      <th></th>\n",
              "      <th>bathroom</th>\n",
              "      <th>parking</th>\n",
              "    </tr>\n",
              "  </thead>\n",
              "  <tbody>\n",
              "    <tr>\n",
              "      <th>0</th>\n",
              "      <td>2.0</td>\n",
              "      <td>1.136969</td>\n",
              "    </tr>\n",
              "    <tr>\n",
              "      <th>1</th>\n",
              "      <td>2.0</td>\n",
              "      <td>1.136969</td>\n",
              "    </tr>\n",
              "    <tr>\n",
              "      <th>2</th>\n",
              "      <td>2.0</td>\n",
              "      <td>1.000000</td>\n",
              "    </tr>\n",
              "    <tr>\n",
              "      <th>3</th>\n",
              "      <td>2.0</td>\n",
              "      <td>1.136969</td>\n",
              "    </tr>\n",
              "    <tr>\n",
              "      <th>4</th>\n",
              "      <td>1.0</td>\n",
              "      <td>1.136969</td>\n",
              "    </tr>\n",
              "    <tr>\n",
              "      <th>...</th>\n",
              "      <td>...</td>\n",
              "      <td>...</td>\n",
              "    </tr>\n",
              "    <tr>\n",
              "      <th>9441</th>\n",
              "      <td>3.0</td>\n",
              "      <td>2.000000</td>\n",
              "    </tr>\n",
              "    <tr>\n",
              "      <th>9442</th>\n",
              "      <td>2.0</td>\n",
              "      <td>1.136969</td>\n",
              "    </tr>\n",
              "    <tr>\n",
              "      <th>9443</th>\n",
              "      <td>2.0</td>\n",
              "      <td>1.136969</td>\n",
              "    </tr>\n",
              "    <tr>\n",
              "      <th>9444</th>\n",
              "      <td>1.0</td>\n",
              "      <td>1.136969</td>\n",
              "    </tr>\n",
              "    <tr>\n",
              "      <th>9445</th>\n",
              "      <td>2.0</td>\n",
              "      <td>1.000000</td>\n",
              "    </tr>\n",
              "  </tbody>\n",
              "</table>\n",
              "<p>9446 rows × 2 columns</p>\n",
              "</div>\n",
              "      <button class=\"colab-df-convert\" onclick=\"convertToInteractive('df-d948fce4-1dce-425d-bfce-ef276e0e9ba3')\"\n",
              "              title=\"Convert this dataframe to an interactive table.\"\n",
              "              style=\"display:none;\">\n",
              "        \n",
              "  <svg xmlns=\"http://www.w3.org/2000/svg\" height=\"24px\"viewBox=\"0 0 24 24\"\n",
              "       width=\"24px\">\n",
              "    <path d=\"M0 0h24v24H0V0z\" fill=\"none\"/>\n",
              "    <path d=\"M18.56 5.44l.94 2.06.94-2.06 2.06-.94-2.06-.94-.94-2.06-.94 2.06-2.06.94zm-11 1L8.5 8.5l.94-2.06 2.06-.94-2.06-.94L8.5 2.5l-.94 2.06-2.06.94zm10 10l.94 2.06.94-2.06 2.06-.94-2.06-.94-.94-2.06-.94 2.06-2.06.94z\"/><path d=\"M17.41 7.96l-1.37-1.37c-.4-.4-.92-.59-1.43-.59-.52 0-1.04.2-1.43.59L10.3 9.45l-7.72 7.72c-.78.78-.78 2.05 0 2.83L4 21.41c.39.39.9.59 1.41.59.51 0 1.02-.2 1.41-.59l7.78-7.78 2.81-2.81c.8-.78.8-2.07 0-2.86zM5.41 20L4 18.59l7.72-7.72 1.47 1.35L5.41 20z\"/>\n",
              "  </svg>\n",
              "      </button>\n",
              "      \n",
              "  <style>\n",
              "    .colab-df-container {\n",
              "      display:flex;\n",
              "      flex-wrap:wrap;\n",
              "      gap: 12px;\n",
              "    }\n",
              "\n",
              "    .colab-df-convert {\n",
              "      background-color: #E8F0FE;\n",
              "      border: none;\n",
              "      border-radius: 50%;\n",
              "      cursor: pointer;\n",
              "      display: none;\n",
              "      fill: #1967D2;\n",
              "      height: 32px;\n",
              "      padding: 0 0 0 0;\n",
              "      width: 32px;\n",
              "    }\n",
              "\n",
              "    .colab-df-convert:hover {\n",
              "      background-color: #E2EBFA;\n",
              "      box-shadow: 0px 1px 2px rgba(60, 64, 67, 0.3), 0px 1px 3px 1px rgba(60, 64, 67, 0.15);\n",
              "      fill: #174EA6;\n",
              "    }\n",
              "\n",
              "    [theme=dark] .colab-df-convert {\n",
              "      background-color: #3B4455;\n",
              "      fill: #D2E3FC;\n",
              "    }\n",
              "\n",
              "    [theme=dark] .colab-df-convert:hover {\n",
              "      background-color: #434B5C;\n",
              "      box-shadow: 0px 1px 3px 1px rgba(0, 0, 0, 0.15);\n",
              "      filter: drop-shadow(0px 1px 2px rgba(0, 0, 0, 0.3));\n",
              "      fill: #FFFFFF;\n",
              "    }\n",
              "  </style>\n",
              "\n",
              "      <script>\n",
              "        const buttonEl =\n",
              "          document.querySelector('#df-d948fce4-1dce-425d-bfce-ef276e0e9ba3 button.colab-df-convert');\n",
              "        buttonEl.style.display =\n",
              "          google.colab.kernel.accessAllowed ? 'block' : 'none';\n",
              "\n",
              "        async function convertToInteractive(key) {\n",
              "          const element = document.querySelector('#df-d948fce4-1dce-425d-bfce-ef276e0e9ba3');\n",
              "          const dataTable =\n",
              "            await google.colab.kernel.invokeFunction('convertToInteractive',\n",
              "                                                     [key], {});\n",
              "          if (!dataTable) return;\n",
              "\n",
              "          const docLinkHtml = 'Like what you see? Visit the ' +\n",
              "            '<a target=\"_blank\" href=https://colab.research.google.com/notebooks/data_table.ipynb>data table notebook</a>'\n",
              "            + ' to learn more about interactive tables.';\n",
              "          element.innerHTML = '';\n",
              "          dataTable['output_type'] = 'display_data';\n",
              "          await google.colab.output.renderOutput(dataTable, element);\n",
              "          const docLink = document.createElement('div');\n",
              "          docLink.innerHTML = docLinkHtml;\n",
              "          element.appendChild(docLink);\n",
              "        }\n",
              "      </script>\n",
              "    </div>\n",
              "  </div>\n",
              "  "
            ]
          },
          "metadata": {},
          "execution_count": 26
        }
      ]
    },
    {
      "cell_type": "code",
      "source": [
        "plt.figure(figsize=(15,15))\n",
        "sns.set()\n",
        "for i,var in enumerate(num_vars_miss):\n",
        "  plt.subplot(2,2,i+1)\n",
        "  sns.distplot(df[var],bins=20,hist=False,kde_kws={'linewidth':5,'color':'red'},label=\"Original\")\n",
        "  sns.distplot(df_copy[var],bins=20,hist=False, kde_kws={'linewidth':5,'color':'green'},label=\"mean\")\n",
        "  plt.legend()"
      ],
      "metadata": {
        "colab": {
          "base_uri": "https://localhost:8080/",
          "height": 597
        },
        "id": "eXPzVjyAA1gv",
        "outputId": "7d19f72f-6c69-412f-8cdb-f979b6673fa7"
      },
      "execution_count": 27,
      "outputs": [
        {
          "output_type": "stream",
          "name": "stderr",
          "text": [
            "/usr/local/lib/python3.7/dist-packages/seaborn/distributions.py:2619: FutureWarning: `distplot` is a deprecated function and will be removed in a future version. Please adapt your code to use either `displot` (a figure-level function with similar flexibility) or `kdeplot` (an axes-level function for kernel density plots).\n",
            "  warnings.warn(msg, FutureWarning)\n",
            "/usr/local/lib/python3.7/dist-packages/seaborn/distributions.py:2619: FutureWarning: `distplot` is a deprecated function and will be removed in a future version. Please adapt your code to use either `displot` (a figure-level function with similar flexibility) or `kdeplot` (an axes-level function for kernel density plots).\n",
            "  warnings.warn(msg, FutureWarning)\n",
            "/usr/local/lib/python3.7/dist-packages/seaborn/distributions.py:2619: FutureWarning: `distplot` is a deprecated function and will be removed in a future version. Please adapt your code to use either `displot` (a figure-level function with similar flexibility) or `kdeplot` (an axes-level function for kernel density plots).\n",
            "  warnings.warn(msg, FutureWarning)\n",
            "/usr/local/lib/python3.7/dist-packages/seaborn/distributions.py:2619: FutureWarning: `distplot` is a deprecated function and will be removed in a future version. Please adapt your code to use either `displot` (a figure-level function with similar flexibility) or `kdeplot` (an axes-level function for kernel density plots).\n",
            "  warnings.warn(msg, FutureWarning)\n"
          ]
        },
        {
          "output_type": "display_data",
          "data": {
            "text/plain": [
              "<Figure size 1080x1080 with 2 Axes>"
            ],
            "image/png": "[encoded data removed]"
          },
          "metadata": {}
        }
      ]
    },
    {
      "cell_type": "markdown",
      "source": [
        "#categorical data cleaning"
      ],
      "metadata": {
        "id": "wK6PuKiw5_Mq"
      }
    },
    {
      "cell_type": "code",
      "source": [
        "cat_vars=df.select_dtypes(include='object')\n",
        "hello = cat_vars\n",
        "cat_vars.head()"
      ],
      "metadata": {
        "colab": {
          "base_uri": "https://localhost:8080/",
          "height": 756
        },
        "id": "SEey_8g2Bsh9",
        "outputId": "0ee4dd89-2d49-4840-8ad4-3d615b8f3d11"
      },
      "execution_count": 28,
      "outputs": [
        {
          "output_type": "execute_result",
          "data": {
            "text/plain": [
              "                                                 Url            Title  \\\n",
              "0  https://housing.com/in/buy/resale/page/2760130...  2 BHK Apartment   \n",
              "1  https://housing.com/in/buy/resale/page/2757498...  2 BHK Apartment   \n",
              "2  https://housing.com/in/buy/resale/page/2753188...  2 BHK Apartment   \n",
              "3  https://housing.com/in/buy/resale/page/2747709...  2 BHK Apartment   \n",
              "4  https://housing.com/in/buy/resale/page/2750468...  1 BHK Apartment   \n",
              "\n",
              "                              Breadcrumb  \\\n",
              "0  Home | Thane | Thane West | 2760130 |   \n",
              "1  Home | Thane | Thane West | 2757498 |   \n",
              "2  Home | Thane | Thane West | 2753188 |   \n",
              "3   Home | Thane | Shilphata | 2747709 |   \n",
              "4  Home | Thane | Thane West | 2750468 |   \n",
              "\n",
              "                                             Address   City     PossesionDate  \\\n",
              "0                 Swastik Regalia, Thane West, Thane  thane  Ready to move in   \n",
              "1                           Amara, Thane West, Thane  thane        June, 2019   \n",
              "2  Vijay Galaxy Tower 1, Waghbil Naka, Thane West...  thane  Ready to move in   \n",
              "3  Flat No 1705, Shil-phata, 17 Floor, Near Mahap...  thane  Ready to move in   \n",
              "4  Puraniks Kanchan Pushp Society, Thane West, Thane  thane  Ready to move in   \n",
              "\n",
              "   builtuparea   CarpetArea  \\\n",
              "0  910 sq. ft.  700 sq. ft.   \n",
              "1  875 sq. ft.  660 sq. ft.   \n",
              "2  999 sq. ft.  638 sq. ft.   \n",
              "3  945 sq. ft.  651 sq. ft.   \n",
              "4  490 sq. ft.  400 sq. ft.   \n",
              "\n",
              "                                           Amenities Building name-1  \\\n",
              "0                                                NaN                   \n",
              "1                                                NaN             NaN   \n",
              "2  ParkingLiftSwimming PoolSports FacilityKids Ar...             NaN   \n",
              "3                                                NaN             NaN   \n",
              "4     LiftKids AreaGardenGas PipelineGated Community             NaN   \n",
              "\n",
              "  AgeOfProperty          Buildingname    price  Built up area Rate   \\\n",
              "0      10 Years       Swastik Regalia   95.0 L  10.44 K per sq. ft.   \n",
              "1           NaN                   NaN  1.15 Cr  13.14 K per sq. ft.   \n",
              "2       3 Years  Vijay Galaxy Tower 1   1.1 Cr  11.01 K per sq. ft.   \n",
              "3       0 Years                   NaN   67.0 L  7089.00 per sq. ft.   \n",
              "4      15 Years                   NaN   54.0 L  11.02 K per sq. ft.   \n",
              "\n",
              "       Facing               Floors  \\\n",
              "0         NaN    Lower of 7 floors   \n",
              "1         NaN                        \n",
              "2        West  Middle of 17 floors   \n",
              "3  North-East  Higher of 21 floors   \n",
              "4        East   Higher of 7 floors   \n",
              "\n",
              "                                              Images  \n",
              "0                                                NaN  \n",
              "1  https://is1-2.housingcdn.com/01c16c28/54bf6a0d...  \n",
              "2                                                NaN  \n",
              "3                                                NaN  \n",
              "4  https://is1-2.housingcdn.com/01c16c28/037ddf6b...  "
            ],
            "text/html": [
              "\n",
              "  <div id=\"df-ce2ce2f9-908f-4ac8-96a1-edd639d19b77\">\n",
              "    <div class=\"colab-df-container\">\n",
              "      <div>\n",
              "<style scoped>\n",
              "    .dataframe tbody tr th:only-of-type {\n",
              "        vertical-align: middle;\n",
              "    }\n",
              "\n",
              "    .dataframe tbody tr th {\n",
              "        vertical-align: top;\n",
              "    }\n",
              "\n",
              "    .dataframe thead th {\n",
              "        text-align: right;\n",
              "    }\n",
              "</style>\n",
              "<table border=\"1\" class=\"dataframe\">\n",
              "  <thead>\n",
              "    <tr style=\"text-align: right;\">\n",
              "      <th></th>\n",
              "      <th>Url</th>\n",
              "      <th>Title</th>\n",
              "      <th>Breadcrumb</th>\n",
              "      <th>Address</th>\n",
              "      <th>City</th>\n",
              "      <th>PossesionDate</th>\n",
              "      <th>builtuparea</th>\n",
              "      <th>CarpetArea</th>\n",
              "      <th>Amenities</th>\n",
              "      <th>Building name-1</th>\n",
              "      <th>AgeOfProperty</th>\n",
              "      <th>Buildingname</th>\n",
              "      <th>price</th>\n",
              "      <th>Built up area Rate</th>\n",
              "      <th>Facing</th>\n",
              "      <th>Floors</th>\n",
              "      <th>Images</th>\n",
              "    </tr>\n",
              "  </thead>\n",
              "  <tbody>\n",
              "    <tr>\n",
              "      <th>0</th>\n",
              "      <td>https://housing.com/in/buy/resale/page/2760130...</td>\n",
              "      <td>2 BHK Apartment</td>\n",
              "      <td>Home | Thane | Thane West | 2760130 |</td>\n",
              "      <td>Swastik Regalia, Thane West, Thane</td>\n",
              "      <td>thane</td>\n",
              "      <td>Ready to move in</td>\n",
              "      <td>910 sq. ft.</td>\n",
              "      <td>700 sq. ft.</td>\n",
              "      <td>NaN</td>\n",
              "      <td></td>\n",
              "      <td>10 Years</td>\n",
              "      <td>Swastik Regalia</td>\n",
              "      <td>95.0 L</td>\n",
              "      <td>10.44 K per sq. ft.</td>\n",
              "      <td>NaN</td>\n",
              "      <td>Lower of 7 floors</td>\n",
              "      <td>NaN</td>\n",
              "    </tr>\n",
              "    <tr>\n",
              "      <th>1</th>\n",
              "      <td>https://housing.com/in/buy/resale/page/2757498...</td>\n",
              "      <td>2 BHK Apartment</td>\n",
              "      <td>Home | Thane | Thane West | 2757498 |</td>\n",
              "      <td>Amara, Thane West, Thane</td>\n",
              "      <td>thane</td>\n",
              "      <td>June, 2019</td>\n",
              "      <td>875 sq. ft.</td>\n",
              "      <td>660 sq. ft.</td>\n",
              "      <td>NaN</td>\n",
              "      <td>NaN</td>\n",
              "      <td>NaN</td>\n",
              "      <td>NaN</td>\n",
              "      <td>1.15 Cr</td>\n",
              "      <td>13.14 K per sq. ft.</td>\n",
              "      <td>NaN</td>\n",
              "      <td></td>\n",
              "      <td>https://is1-2.housingcdn.com/01c16c28/54bf6a0d...</td>\n",
              "    </tr>\n",
              "    <tr>\n",
              "      <th>2</th>\n",
              "      <td>https://housing.com/in/buy/resale/page/2753188...</td>\n",
              "      <td>2 BHK Apartment</td>\n",
              "      <td>Home | Thane | Thane West | 2753188 |</td>\n",
              "      <td>Vijay Galaxy Tower 1, Waghbil Naka, Thane West...</td>\n",
              "      <td>thane</td>\n",
              "      <td>Ready to move in</td>\n",
              "      <td>999 sq. ft.</td>\n",
              "      <td>638 sq. ft.</td>\n",
              "      <td>ParkingLiftSwimming PoolSports FacilityKids Ar...</td>\n",
              "      <td>NaN</td>\n",
              "      <td>3 Years</td>\n",
              "      <td>Vijay Galaxy Tower 1</td>\n",
              "      <td>1.1 Cr</td>\n",
              "      <td>11.01 K per sq. ft.</td>\n",
              "      <td>West</td>\n",
              "      <td>Middle of 17 floors</td>\n",
              "      <td>NaN</td>\n",
              "    </tr>\n",
              "    <tr>\n",
              "      <th>3</th>\n",
              "      <td>https://housing.com/in/buy/resale/page/2747709...</td>\n",
              "      <td>2 BHK Apartment</td>\n",
              "      <td>Home | Thane | Shilphata | 2747709 |</td>\n",
              "      <td>Flat No 1705, Shil-phata, 17 Floor, Near Mahap...</td>\n",
              "      <td>thane</td>\n",
              "      <td>Ready to move in</td>\n",
              "      <td>945 sq. ft.</td>\n",
              "      <td>651 sq. ft.</td>\n",
              "      <td>NaN</td>\n",
              "      <td>NaN</td>\n",
              "      <td>0 Years</td>\n",
              "      <td>NaN</td>\n",
              "      <td>67.0 L</td>\n",
              "      <td>7089.00 per sq. ft.</td>\n",
              "      <td>North-East</td>\n",
              "      <td>Higher of 21 floors</td>\n",
              "      <td>NaN</td>\n",
              "    </tr>\n",
              "    <tr>\n",
              "      <th>4</th>\n",
              "      <td>https://housing.com/in/buy/resale/page/2750468...</td>\n",
              "      <td>1 BHK Apartment</td>\n",
              "      <td>Home | Thane | Thane West | 2750468 |</td>\n",
              "      <td>Puraniks Kanchan Pushp Society, Thane West, Thane</td>\n",
              "      <td>thane</td>\n",
              "      <td>Ready to move in</td>\n",
              "      <td>490 sq. ft.</td>\n",
              "      <td>400 sq. ft.</td>\n",
              "      <td>LiftKids AreaGardenGas PipelineGated Community</td>\n",
              "      <td>NaN</td>\n",
              "      <td>15 Years</td>\n",
              "      <td>NaN</td>\n",
              "      <td>54.0 L</td>\n",
              "      <td>11.02 K per sq. ft.</td>\n",
              "      <td>East</td>\n",
              "      <td>Higher of 7 floors</td>\n",
              "      <td>https://is1-2.housingcdn.com/01c16c28/037ddf6b...</td>\n",
              "    </tr>\n",
              "  </tbody>\n",
              "</table>\n",
              "</div>\n",
              "      <button class=\"colab-df-convert\" onclick=\"convertToInteractive('df-ce2ce2f9-908f-4ac8-96a1-edd639d19b77')\"\n",
              "              title=\"Convert this dataframe to an interactive table.\"\n",
              "              style=\"display:none;\">\n",
              "        \n",
              "  <svg xmlns=\"http://www.w3.org/2000/svg\" height=\"24px\"viewBox=\"0 0 24 24\"\n",
              "       width=\"24px\">\n",
              "    <path d=\"M0 0h24v24H0V0z\" fill=\"none\"/>\n",
              "    <path d=\"M18.56 5.44l.94 2.06.94-2.06 2.06-.94-2.06-.94-.94-2.06-.94 2.06-2.06.94zm-11 1L8.5 8.5l.94-2.06 2.06-.94-2.06-.94L8.5 2.5l-.94 2.06-2.06.94zm10 10l.94 2.06.94-2.06 2.06-.94-2.06-.94-.94-2.06-.94 2.06-2.06.94z\"/><path d=\"M17.41 7.96l-1.37-1.37c-.4-.4-.92-.59-1.43-.59-.52 0-1.04.2-1.43.59L10.3 9.45l-7.72 7.72c-.78.78-.78 2.05 0 2.83L4 21.41c.39.39.9.59 1.41.59.51 0 1.02-.2 1.41-.59l7.78-7.78 2.81-2.81c.8-.78.8-2.07 0-2.86zM5.41 20L4 18.59l7.72-7.72 1.47 1.35L5.41 20z\"/>\n",
              "  </svg>\n",
              "      </button>\n",
              "      \n",
              "  <style>\n",
              "    .colab-df-container {\n",
              "      display:flex;\n",
              "      flex-wrap:wrap;\n",
              "      gap: 12px;\n",
              "    }\n",
              "\n",
              "    .colab-df-convert {\n",
              "      background-color: #E8F0FE;\n",
              "      border: none;\n",
              "      border-radius: 50%;\n",
              "      cursor: pointer;\n",
              "      display: none;\n",
              "      fill: #1967D2;\n",
              "      height: 32px;\n",
              "      padding: 0 0 0 0;\n",
              "      width: 32px;\n",
              "    }\n",
              "\n",
              "    .colab-df-convert:hover {\n",
              "      background-color: #E2EBFA;\n",
              "      box-shadow: 0px 1px 2px rgba(60, 64, 67, 0.3), 0px 1px 3px 1px rgba(60, 64, 67, 0.15);\n",
              "      fill: #174EA6;\n",
              "    }\n",
              "\n",
              "    [theme=dark] .colab-df-convert {\n",
              "      background-color: #3B4455;\n",
              "      fill: #D2E3FC;\n",
              "    }\n",
              "\n",
              "    [theme=dark] .colab-df-convert:hover {\n",
              "      background-color: #434B5C;\n",
              "      box-shadow: 0px 1px 3px 1px rgba(0, 0, 0, 0.15);\n",
              "      filter: drop-shadow(0px 1px 2px rgba(0, 0, 0, 0.3));\n",
              "      fill: #FFFFFF;\n",
              "    }\n",
              "  </style>\n",
              "\n",
              "      <script>\n",
              "        const buttonEl =\n",
              "          document.querySelector('#df-ce2ce2f9-908f-4ac8-96a1-edd639d19b77 button.colab-df-convert');\n",
              "        buttonEl.style.display =\n",
              "          google.colab.kernel.accessAllowed ? 'block' : 'none';\n",
              "\n",
              "        async function convertToInteractive(key) {\n",
              "          const element = document.querySelector('#df-ce2ce2f9-908f-4ac8-96a1-edd639d19b77');\n",
              "          const dataTable =\n",
              "            await google.colab.kernel.invokeFunction('convertToInteractive',\n",
              "                                                     [key], {});\n",
              "          if (!dataTable) return;\n",
              "\n",
              "          const docLinkHtml = 'Like what you see? Visit the ' +\n",
              "            '<a target=\"_blank\" href=https://colab.research.google.com/notebooks/data_table.ipynb>data table notebook</a>'\n",
              "            + ' to learn more about interactive tables.';\n",
              "          element.innerHTML = '';\n",
              "          dataTable['output_type'] = 'display_data';\n",
              "          await google.colab.output.renderOutput(dataTable, element);\n",
              "          const docLink = document.createElement('div');\n",
              "          docLink.innerHTML = docLinkHtml;\n",
              "          element.appendChild(docLink);\n",
              "        }\n",
              "      </script>\n",
              "    </div>\n",
              "  </div>\n",
              "  "
            ]
          },
          "metadata": {},
          "execution_count": 28
        }
      ]
    },
    {
      "cell_type": "code",
      "source": [
        "cat_vars.isnull().sum()"
      ],
      "metadata": {
        "colab": {
          "base_uri": "https://localhost:8080/"
        },
        "id": "sUMVc9wCUk3A",
        "outputId": "2a09ed33-4dbb-4b9c-ba69-6ceee5a5b029"
      },
      "execution_count": 29,
      "outputs": [
        {
          "output_type": "execute_result",
          "data": {
            "text/plain": [
              "Url                       0\n",
              "Title                     0\n",
              "Breadcrumb                0\n",
              "Address                   0\n",
              "City                      0\n",
              "PossesionDate             9\n",
              "builtuparea               0\n",
              "CarpetArea             1923\n",
              "Amenities              1659\n",
              "Building name-1        7527\n",
              "AgeOfProperty          2588\n",
              "Buildingname           7354\n",
              "price                     0\n",
              "Built up area Rate        0\n",
              "Facing                 1836\n",
              "Floors                    0\n",
              "Images                 1441\n",
              "dtype: int64"
            ]
          },
          "metadata": {},
          "execution_count": 29
        }
      ]
    },
    {
      "cell_type": "code",
      "source": [
        "isnull_per = cat_vars.isnull().mean()*100\n",
        "miss_vars_cat = isnull_per[isnull_per >0].keys()\n",
        "miss_vars_cat"
      ],
      "metadata": {
        "colab": {
          "base_uri": "https://localhost:8080/"
        },
        "id": "b7L5EiFCU63e",
        "outputId": "ac9f3bf5-47b0-4cca-f253-ebca8bdc753b"
      },
      "execution_count": 30,
      "outputs": [
        {
          "output_type": "execute_result",
          "data": {
            "text/plain": [
              "Index(['PossesionDate', 'CarpetArea', 'Amenities', 'Building name-1',\n",
              "       'AgeOfProperty', 'Buildingname', 'Facing', 'Images'],\n",
              "      dtype='object')"
            ]
          },
          "metadata": {},
          "execution_count": 30
        }
      ]
    },
    {
      "cell_type": "code",
      "source": [
        "for var in miss_vars_cat:\n",
        "  cat_vars[var].fillna(cat_vars[var].mode()[0],inplace=True)\n",
        "  print(var,'=',cat_vars[var].mode()[0])"
      ],
      "metadata": {
        "colab": {
          "base_uri": "https://localhost:8080/"
        },
        "id": "NayfLWRBVEXz",
        "outputId": "56157315-bca9-4ac7-e618-1fbb55ddf192"
      },
      "execution_count": 31,
      "outputs": [
        {
          "output_type": "stream",
          "name": "stdout",
          "text": [
            "PossesionDate = Ready to move in\n",
            "CarpetArea = 450 sq. ft.\n",
            "Amenities = ParkingPower BackupWater SupplySecurityLiftSwimming PoolSports FacilityKids AreaGymGardenGated Community\n",
            "Building name-1 = Middle\n",
            "AgeOfProperty = 0 Years\n",
            "Buildingname = Sukur Enclave\n",
            "Facing = East\n",
            "Images = https://is1-2.housingcdn.com/08eeb3ff/aa688bd4053c23a6c305e84cb212ac6a/v0/large/3_bhk_apartment-for-sale-thane_west-Thane-building_view.jpg\n"
          ]
        },
        {
          "output_type": "stream",
          "name": "stderr",
          "text": [
            "/usr/local/lib/python3.7/dist-packages/pandas/core/generic.py:6392: SettingWithCopyWarning: \n",
            "A value is trying to be set on a copy of a slice from a DataFrame\n",
            "\n",
            "See the caveats in the documentation: https://pandas.pydata.org/pandas-docs/stable/user_guide/indexing.html#returning-a-view-versus-a-copy\n",
            "  return self._update_inplace(result)\n"
          ]
        }
      ]
    },
    {
      "cell_type": "code",
      "source": [
        "cat_vars.isnull().sum()"
      ],
      "metadata": {
        "colab": {
          "base_uri": "https://localhost:8080/"
        },
        "id": "bZbNmDudV3fr",
        "outputId": "cc499477-8ab7-48fd-f3c1-86b8737f940d"
      },
      "execution_count": 32,
      "outputs": [
        {
          "output_type": "execute_result",
          "data": {
            "text/plain": [
              "Url                    0\n",
              "Title                  0\n",
              "Breadcrumb             0\n",
              "Address                0\n",
              "City                   0\n",
              "PossesionDate          0\n",
              "builtuparea            0\n",
              "CarpetArea             0\n",
              "Amenities              0\n",
              "Building name-1        0\n",
              "AgeOfProperty          0\n",
              "Buildingname           0\n",
              "price                  0\n",
              "Built up area Rate     0\n",
              "Facing                 0\n",
              "Floors                 0\n",
              "Images                 0\n",
              "dtype: int64"
            ]
          },
          "metadata": {},
          "execution_count": 32
        }
      ]
    }
  ]
}